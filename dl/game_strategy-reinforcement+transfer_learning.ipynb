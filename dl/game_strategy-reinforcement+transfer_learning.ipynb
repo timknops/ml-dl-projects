{
 "cells": [
  {
   "cell_type": "markdown",
   "metadata": {},
   "source": [
    "# **Combining Reinforcement Learning and Transfer Learning for Optimal Game Strategy**\n",
    "\n",
    "---\n",
    "\n",
    "## **Introduction**\n",
    "\n",
    "In this notebook I will be combining reinforcement learning and transfer learning to optimize game strategy. The goal is to train an agent to play a game called Gridworld, which is a simple game where the agent has to navigate a grid to reach a goal. The agent will be trained using reinforcement learning, after which transfer learning will be used to fine-tune the agent on a new game with a larger grid layout.\n",
    "\n",
    "**The goal for this notebook is to demonstrate how reinforcement learning and transfer learning can be combined to optimize game strategy.**"
   ]
  },
  {
   "cell_type": "markdown",
   "metadata": {},
   "source": [
    "## **Table of Contents**\n",
    "\n",
    "1. [Environment Setup](#1.-Environment-Setup)\n",
    "2. [Q-Learning Implementation](#2.-Q-Learning-Implementation)\n",
    "3. [Training the Agent on a Small Grid](#3.-Training-the-Agent-on-a-Small-Grid)  \n",
    "    3.1 [Visualizing the Path Taken by the Agent](#3.1-Visualizing-the-Path-Taken-by-the-Agent)  \n",
    "4. [Transfer Learning to a Larger Grid](#4.-Transfer-Learning-to-a-Larger-Grid)  "
   ]
  },
  {
   "cell_type": "markdown",
   "metadata": {},
   "source": [
    "## **1. Environment Setup**\n",
    "\n",
    "---"
   ]
  },
  {
   "cell_type": "code",
   "execution_count": 214,
   "metadata": {},
   "outputs": [],
   "source": [
    "import numpy as np\n",
    "import matplotlib.pyplot as plt\n",
    "import seaborn as sns"
   ]
  },
  {
   "cell_type": "markdown",
   "metadata": {},
   "source": [
    "I'll create a GridWorld environment with a 5x5 grid. The actions are 'up', 'down', 'left', and 'right'. The start state is (0, 0) and the goal state is (4, 4). When the agent reaches the goal state, it receives a reward of 1, and the episode ends. Otherwise, the agent receives a reward of -0.1 for each step."
   ]
  },
  {
   "cell_type": "code",
   "execution_count": 215,
   "metadata": {},
   "outputs": [],
   "source": [
    "class GridWorld:\n",
    "    def __init__(self, grid_size, start, goal):\n",
    "        self.grid_size = grid_size\n",
    "        self.start = start\n",
    "        self.goal = goal\n",
    "        self.state = start\n",
    "        self.actions = ['up', 'down', 'left', 'right']\n",
    "        \n",
    "    def reset(self):\n",
    "        \"\"\"Reset the environment to the start state.\"\"\"\n",
    "        self.state = self.start\n",
    "        return self.state\n",
    "    \n",
    "    def step(self, action):\n",
    "        \"\"\"\n",
    "        Take a step in the environment based on the action and return the new state, reward, and done flag.\n",
    "        The done flag is True if the agent has reached the goal state.\n",
    "        \"\"\"\n",
    "        x, y = self.state\n",
    "        if action == 'up' and x > 0:\n",
    "            x -= 1\n",
    "        elif action == 'down' and x < self.grid_size[0] - 1:\n",
    "            x += 1\n",
    "        elif action == 'left' and y > 0:\n",
    "            y -= 1\n",
    "        elif action == 'right' and y < self.grid_size[1] - 1:\n",
    "            y += 1\n",
    "        else:\n",
    "            return self.state, -0.1, False\n",
    "        \n",
    "        self.state = (x, y) # Update the state with the new position.\n",
    "        reward = 1 if self.state == self.goal else -0.1\n",
    "        done = self.state == self.goal # The episode is done if the agent reaches the goal.\n",
    "        return self.state, reward, done"
   ]
  },
  {
   "cell_type": "markdown",
   "metadata": {},
   "source": [
    "## **2. Q-Learning Implementation**\n",
    "\n",
    "[Back to Top](#Table-of-Contents)\n",
    "\n",
    "---\n",
    "\n",
    "I'll be using the Q-learning algorithm to train the agent to navigate the gridworld environment. Q-learning is a model-free reinforcement learning algorithm that learns the optimal action-value function by iteratively updating the Q-values based on the Bellman equation."
   ]
  },
  {
   "cell_type": "code",
   "execution_count": 216,
   "metadata": {},
   "outputs": [],
   "source": [
    "class QLearningAgent:\n",
    "    def __init__(self, grid_size, actions, learning_rate=0.1, discount_factor=0.9, exploration_rate=1.0, exploration_decay=0.99):\n",
    "        self.grid_size = grid_size\n",
    "        self.q_table = np.zeros(grid_size + (len(actions),)) # Holds the Q-values for each state-action pair.\n",
    "        self.actions = actions\n",
    "        self.lr = learning_rate\n",
    "        self.gamma = discount_factor\n",
    "        self.epsilon = exploration_rate\n",
    "        self.epsilon_decay = exploration_decay\n",
    "        \n",
    "    def choose_action(self, state):\n",
    "        \"\"\"Choose an action based on the epsilon-greedy policy.\"\"\"\n",
    "        if np.random.rand() < self.epsilon: # Choose randomly with probability epsilon.\n",
    "            return np.random.choice(self.actions)\n",
    "        else: # Choose the best action with probability 1 - epsilon, meaning exploit the best action.\n",
    "            return self.actions[np.argmax(self.q_table[state])]\n",
    "        \n",
    "    def learn(self, state, action, reward, next_state):\n",
    "        \"\"\"Update the Q-value table using the Q-learning update rule.\"\"\"\n",
    "        action_index = self.actions.index(action)\n",
    "        best_next_action = np.argmax(self.q_table[next_state])\n",
    "        td_target = reward + self.gamma * self.q_table[next_state + (best_next_action,)]\n",
    "        td_error = td_target - self.q_table[state + (action_index,)]\n",
    "        \n",
    "        self.q_table[state + (action_index,)] += self.lr * td_error # Update the Q-value table.\n",
    "        self.epsilon *= self.epsilon_decay \n",
    "        \n",
    "    def update_q_table_larger_grid(self, new_grid_size):\n",
    "        \"\"\"Update the Q-value table to a larger grid size.\"\"\"\n",
    "        new_q_table = np.zeros(new_grid_size + (len(self.actions),))\n",
    "        new_q_table[:self.grid_size[0], :self.grid_size[1], :] = self.q_table\n",
    "        self.q_table = new_q_table\n",
    "        self.grid_size = new_grid_size"
   ]
  },
  {
   "cell_type": "markdown",
   "metadata": {},
   "source": [
    "## **3. Training the Agent on a Small Grid**\n",
    "\n",
    "[Back to Top](#Table-of-Contents)\n",
    "\n",
    "---\n",
    "\n",
    "I'll train the agent on the 5x5 gridworld environment and visualize the Q-values learned by the agent."
   ]
  },
  {
   "cell_type": "code",
   "execution_count": 217,
   "metadata": {},
   "outputs": [],
   "source": [
    "def train_agent(grid_size, start, goal, episodes):\n",
    "    env = GridWorld(grid_size, start, goal)\n",
    "    agent = QLearningAgent(grid_size, env.actions)\n",
    "    \n",
    "    for _ in range(episodes):\n",
    "        state = env.reset()\n",
    "        done = False\n",
    "        \n",
    "        # While the episode is not done, choose an action, take a step, and learn from the experience.\n",
    "        while not done:\n",
    "            action = agent.choose_action(state)\n",
    "            next_state, reward, done = env.step(action)\n",
    "            agent.learn(state, action, reward, next_state)\n",
    "            state = next_state\n",
    "            \n",
    "        # Decay epsilon after each episode\n",
    "        agent.epsilon = max(agent.epsilon * agent.epsilon_decay, 0.01)\n",
    "    \n",
    "    return agent\n",
    "\n",
    "small_grid_size = (5, 5)\n",
    "small_start = (0, 0)\n",
    "small_goal = (4, 4)\n",
    "small_grid_episodes = 1000  # Reduced episodes\n",
    "\n",
    "agent = train_agent(small_grid_size, small_start, small_goal, small_grid_episodes)"
   ]
  },
  {
   "cell_type": "markdown",
   "metadata": {},
   "source": [
    "#### **3.1 Visualizing the Path Taken by the Agent**\n",
    "\n",
    "Let's see how the agent navigates the gridworld environment after training."
   ]
  },
  {
   "cell_type": "code",
   "execution_count": 218,
   "metadata": {},
   "outputs": [
    {
     "data": {
      "image/png": "[encoded data removed]",
      "text/plain": [
       "<Figure size 1000x1000 with 1 Axes>"
      ]
     },
     "metadata": {},
     "output_type": "display_data"
    }
   ],
   "source": [
    "def visualize_path(agent, grid_size, start, goal, is_larger_grid=False):\n",
    "    env = GridWorld(grid_size, start, goal)\n",
    "    state = env.reset()\n",
    "    path = [state]\n",
    "    done = False\n",
    "    \n",
    "    while not done:\n",
    "        action = agent.choose_action(state)\n",
    "        state, _, done = env.step(action)\n",
    "        path.append(state)\n",
    "    \n",
    "    grid = np.zeros(grid_size)\n",
    "    for (x, y) in path:\n",
    "        grid[x, y] = 1\n",
    "    \n",
    "    grid[start] = 0.5  # Mark start position\n",
    "    grid[goal] = 0.75  # Mark goal position\n",
    "    \n",
    "    plt.figure(figsize=(10, 10))\n",
    "    if is_larger_grid:\n",
    "        sns.heatmap(grid, linewidths=0.01, linecolor='black', cmap='Blues', cbar=False, square=True)\n",
    "    else:\n",
    "        sns.heatmap(grid, linewidths=1, linecolor='black', cmap='Blues', cbar=False, square=True)\n",
    "    plt.show()\n",
    "    \n",
    "visualize_path(agent, small_grid_size, small_start, small_goal)"
   ]
  },
  {
   "cell_type": "markdown",
   "metadata": {},
   "source": [
    "As we can see from the above plot, the agent successfully navigates the gridworld environment from the start state (0, 0) to the goal state (4, 4) following the optimal path. There are multiple optimal paths, all require 8 steps to reach the goal state. If you re-run the code, the path will change every time."
   ]
  },
  {
   "cell_type": "code",
   "execution_count": 219,
   "metadata": {},
   "outputs": [
    {
     "data": {
      "image/png": "[encoded data removed]",
      "text/plain": [
       "<Figure size 1000x1000 with 2 Axes>"
      ]
     },
     "metadata": {},
     "output_type": "display_data"
    }
   ],
   "source": [
    "def visualize_q_values(agent):\n",
    "    q_values = np.max(agent.q_table, axis=2)\n",
    "    plt.figure(figsize=(10, 10))\n",
    "    sns.heatmap(q_values, linewidths=1, linecolor='black', cmap='Blues', cbar=True, square=True)\n",
    "    plt.show()\n",
    "    \n",
    "visualize_q_values(agent)"
   ]
  },
  {
   "cell_type": "markdown",
   "metadata": {},
   "source": [
    "The above plot visualizes the q-values learned by the agent for each state-action pair. The color intensity represents the q-value, with darker colors indicating higher q-values. We can see that the closer to the goal state, the higher the q-values are for the optimal actions."
   ]
  },
  {
   "cell_type": "markdown",
   "metadata": {},
   "source": [
    "## **4. Transfer Learning to a Larger Grid**\n",
    "\n",
    "[Back to Top](#Table-of-Contents)\n",
    "\n",
    "---\n",
    "\n",
    "Now, I'll demonstrate how transfer learning can be used to fine-tune the agent on a larger gridworld environment with a 10x10 grid."
   ]
  },
  {
   "cell_type": "code",
   "execution_count": 220,
   "metadata": {},
   "outputs": [
    {
     "data": {
      "image/png": "[encoded data removed]",
      "text/plain": [
       "<Figure size 1000x1000 with 1 Axes>"
      ]
     },
     "metadata": {},
     "output_type": "display_data"
    }
   ],
   "source": [
    "def transfer_to_larger_grid(agent, new_grid_size, new_start, new_goal, episodes):\n",
    "    agent.update_q_table_larger_grid(new_grid_size)\n",
    "    env = GridWorld(new_grid_size, new_start, new_goal)\n",
    "    \n",
    "    for _ in range(episodes):\n",
    "        state = env.reset()\n",
    "        done = False\n",
    "        \n",
    "        while not done:\n",
    "            action = agent.choose_action(state)\n",
    "            next_state, reward, done = env.step(action)\n",
    "            agent.learn(state, action, reward, next_state)\n",
    "            state = next_state\n",
    "            \n",
    "        # Decay epsilon after each episode\n",
    "        agent.epsilon = max(agent.epsilon * agent.epsilon_decay, 0.01)\n",
    "    \n",
    "    return agent\n",
    "\n",
    "large_grid_size = (10, 10)\n",
    "large_start = (0, 0)\n",
    "large_goal = (9, 9)\n",
    "large_grid_episodes = 1000\n",
    "\n",
    "agent = transfer_to_larger_grid(agent, large_grid_size, large_start, large_goal, large_grid_episodes)\n",
    "visualize_path(agent, large_grid_size, large_start, large_goal)"
   ]
  },
  {
   "cell_type": "markdown",
   "metadata": {},
   "source": [
    "For a 10x10 grid, the amount of steps, optimally, is 18. As we can see from the above plot, the agent successfully navigates the gridworld environment from the start state (0, 0) to the goal state (9, 9) following one of the optimal paths."
   ]
  },
  {
   "cell_type": "code",
   "execution_count": 221,
   "metadata": {},
   "outputs": [
    {
     "data": {
      "image/png": "[encoded data removed]",
      "text/plain": [
       "<Figure size 1000x1000 with 2 Axes>"
      ]
     },
     "metadata": {},
     "output_type": "display_data"
    }
   ],
   "source": [
    "visualize_q_values(agent)"
   ]
  },
  {
   "cell_type": "markdown",
   "metadata": {},
   "source": [
    "The agent was able to transfer the knowledge learned from the 5x5 grid to the 10x10 grid and successfully navigate the environment to reach the goal state. This demonstrates how one can leverage transfer learning to optimize game strategy across different environments."
   ]
  }
 ],
 "metadata": {
  "kernelspec": {
   "display_name": "Python 3 (ipykernel)",
   "language": "python",
   "name": "python3"
  },
  "language_info": {
   "codemirror_mode": {
    "name": "ipython",
    "version": 3
   },
   "file_extension": ".py",
   "mimetype": "text/x-python",
   "name": "python",
   "nbconvert_exporter": "python",
   "pygments_lexer": "ipython3",
   "version": "3.11.8"
  }
 },
 "nbformat": 4,
 "nbformat_minor": 4
}
